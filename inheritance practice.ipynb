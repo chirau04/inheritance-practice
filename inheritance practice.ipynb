{
 "cells": [
  {
   "cell_type": "code",
   "execution_count": 4,
   "id": "8e32fbd6-7c9c-47a6-b976-f8c9159d84e7",
   "metadata": {},
   "outputs": [],
   "source": [
    "class test :\n",
    "\n",
    "    def test_meth(self):\n",
    "        return\"this is my first class\""
   ]
  },
  {
   "cell_type": "code",
   "execution_count": 5,
   "id": "4550d4cf-1adb-4618-991e-98cfc6efa031",
   "metadata": {},
   "outputs": [],
   "source": [
    "class child_test(test):\n",
    "    pass"
   ]
  },
  {
   "cell_type": "code",
   "execution_count": 6,
   "id": "6be63b17-c779-48e9-bf30-35e7c678e0bf",
   "metadata": {},
   "outputs": [],
   "source": [
    "child_test_obj = child_test()"
   ]
  },
  {
   "cell_type": "code",
   "execution_count": 7,
   "id": "8c3a767c-cd00-42c1-8822-737817b5e3c6",
   "metadata": {},
   "outputs": [
    {
     "data": {
      "text/plain": [
       "'this is my first class'"
      ]
     },
     "execution_count": 7,
     "metadata": {},
     "output_type": "execute_result"
    }
   ],
   "source": [
    "child_test_obj.test_meth()"
   ]
  },
  {
   "cell_type": "code",
   "execution_count": 10,
   "id": "6ea803f6-4de1-45a2-9905-f953849a64df",
   "metadata": {},
   "outputs": [],
   "source": [
    "class class1:\n",
    "    def test_class1(self):\n",
    "        return\"this is a meth from class 1\""
   ]
  },
  {
   "cell_type": "code",
   "execution_count": 11,
   "id": "1b6e487f-e88d-42ae-bdbe-53b39622a710",
   "metadata": {},
   "outputs": [],
   "source": [
    "class class2(class1):\n",
    "    def test_class2(self):\n",
    "        return\"this is a meth from class 2\""
   ]
  },
  {
   "cell_type": "code",
   "execution_count": 12,
   "id": "56c29b9e-6bc3-49ae-a306-4a00ff1e1e0f",
   "metadata": {},
   "outputs": [],
   "source": [
    "class class3(class2):\n",
    "    pass"
   ]
  },
  {
   "cell_type": "code",
   "execution_count": 13,
   "id": "ec40a6f6-639a-4415-ba45-2fe3f1701c38",
   "metadata": {},
   "outputs": [],
   "source": [
    "obj_class3 = class3()"
   ]
  },
  {
   "cell_type": "code",
   "execution_count": 14,
   "id": "11eee117-f5ba-4bd5-8d58-3100df1e43b5",
   "metadata": {},
   "outputs": [
    {
     "data": {
      "text/plain": [
       "'this is a meth from class 1'"
      ]
     },
     "execution_count": 14,
     "metadata": {},
     "output_type": "execute_result"
    }
   ],
   "source": [
    "obj_class3.test_class1()"
   ]
  },
  {
   "cell_type": "code",
   "execution_count": 15,
   "id": "ddac7545-2507-4f39-b315-5ee5057452c3",
   "metadata": {},
   "outputs": [
    {
     "data": {
      "text/plain": [
       "'this is a meth from class 2'"
      ]
     },
     "execution_count": 15,
     "metadata": {},
     "output_type": "execute_result"
    }
   ],
   "source": [
    "obj_class3.test_class2()"
   ]
  },
  {
   "cell_type": "code",
   "execution_count": 16,
   "id": "f13456de-f036-4ebc-af4e-8649b9844740",
   "metadata": {},
   "outputs": [],
   "source": [
    "class class1:\n",
    "    def test_class1(self):\n",
    "        return\"this is a class1\""
   ]
  },
  {
   "cell_type": "code",
   "execution_count": 19,
   "id": "a61fb003-71ca-4239-862c-f7bbba710896",
   "metadata": {},
   "outputs": [],
   "source": [
    "class class2:\n",
    "    def test_class2(self):\n",
    "        return\"this is class 2\""
   ]
  },
  {
   "cell_type": "code",
   "execution_count": 20,
   "id": "99a2b952-aac0-4ba8-805d-aecc85982df6",
   "metadata": {},
   "outputs": [],
   "source": [
    "class class3(class1, class2):\n",
    "    pass"
   ]
  },
  {
   "cell_type": "code",
   "execution_count": 24,
   "id": "62a6aaea-6016-4a51-ba16-f64039362552",
   "metadata": {},
   "outputs": [],
   "source": [
    "obj_class3 = class3()"
   ]
  },
  {
   "cell_type": "code",
   "execution_count": 25,
   "id": "578cd9b3-1c14-4dff-9de5-0c85ad9179dc",
   "metadata": {},
   "outputs": [
    {
     "data": {
      "text/plain": [
       "<bound method class1.test_class1 of <__main__.class3 object at 0x7ff5d9a88d90>>"
      ]
     },
     "execution_count": 25,
     "metadata": {},
     "output_type": "execute_result"
    }
   ],
   "source": [
    "obj_class3.test_class1"
   ]
  },
  {
   "cell_type": "code",
   "execution_count": 26,
   "id": "1330d960-01a1-45b2-8451-bc1a4ed71b18",
   "metadata": {},
   "outputs": [
    {
     "data": {
      "text/plain": [
       "'this is class 2'"
      ]
     },
     "execution_count": 26,
     "metadata": {},
     "output_type": "execute_result"
    }
   ],
   "source": [
    "obj_class3. test_class2()"
   ]
  },
  {
   "cell_type": "code",
   "execution_count": 27,
   "id": "83a727b4-eeb4-45ab-a28e-d9764652889e",
   "metadata": {},
   "outputs": [
    {
     "data": {
      "text/plain": [
       "'this is a class1'"
      ]
     },
     "execution_count": 27,
     "metadata": {},
     "output_type": "execute_result"
    }
   ],
   "source": [
    "obj_class3. test_class1()"
   ]
  },
  {
   "cell_type": "code",
   "execution_count": null,
   "id": "7281d0e3-a341-43f2-a4f1-3bd0237f47d8",
   "metadata": {},
   "outputs": [],
   "source": []
  }
 ],
 "metadata": {
  "kernelspec": {
   "display_name": "Python 3 (ipykernel)",
   "language": "python",
   "name": "python3"
  },
  "language_info": {
   "codemirror_mode": {
    "name": "ipython",
    "version": 3
   },
   "file_extension": ".py",
   "mimetype": "text/x-python",
   "name": "python",
   "nbconvert_exporter": "python",
   "pygments_lexer": "ipython3",
   "version": "3.10.8"
  }
 },
 "nbformat": 4,
 "nbformat_minor": 5
}
